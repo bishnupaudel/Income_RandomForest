{
 "cells": [
  {
   "cell_type": "code",
   "execution_count": 318,
   "metadata": {},
   "outputs": [],
   "source": [
    "import numpy as np\n",
    "import pandas as pd\n",
    "import seaborn as sns\n",
    "import matplotlib.pyplot as plt\n",
    "%matplotlib inline\n",
    "import warnings\n",
    "warnings.filterwarnings(\"ignore\")"
   ]
  },
  {
   "cell_type": "code",
   "execution_count": null,
   "metadata": {},
   "outputs": [],
   "source": [
    "# The aim of this project is to identify the level of income qualification needed for the families in Latin America using\n",
    "# RandomForest model"
   ]
  },
  {
   "cell_type": "code",
   "execution_count": 398,
   "metadata": {},
   "outputs": [],
   "source": [
    "train_df = pd.read_csv(\"C:/Users/ribis/Documents/Simplilearn_Data Scientist/Machine learning/project to be submitted/Machine-Learning--Projects-master/Projects/Projects for Submission/Project 2 - Income Qualification/Dataset for the project/train.csv\")\n",
    "\n",
    "test_df = train_df = pd.read_csv(\"C:/Users/ribis/Documents/Simplilearn_Data Scientist/Machine learning/project to be submitted/Machine-Learning--Projects-master/Projects/Projects for Submission/Project 2 - Income Qualification/Dataset for the project/test.csv\")"
   ]
  },
  {
   "cell_type": "code",
   "execution_count": 320,
   "metadata": {},
   "outputs": [
    {
     "data": {
      "text/html": [
       "<div>\n",
       "<style scoped>\n",
       "    .dataframe tbody tr th:only-of-type {\n",
       "        vertical-align: middle;\n",
       "    }\n",
       "\n",
       "    .dataframe tbody tr th {\n",
       "        vertical-align: top;\n",
       "    }\n",
       "\n",
       "    .dataframe thead th {\n",
       "        text-align: right;\n",
       "    }\n",
       "</style>\n",
       "<table border=\"1\" class=\"dataframe\">\n",
       "  <thead>\n",
       "    <tr style=\"text-align: right;\">\n",
       "      <th></th>\n",
       "      <th>Id</th>\n",
       "      <th>v2a1</th>\n",
       "      <th>hacdor</th>\n",
       "      <th>rooms</th>\n",
       "      <th>hacapo</th>\n",
       "      <th>v14a</th>\n",
       "      <th>refrig</th>\n",
       "      <th>v18q</th>\n",
       "      <th>v18q1</th>\n",
       "      <th>r4h1</th>\n",
       "      <th>...</th>\n",
       "      <th>SQBescolari</th>\n",
       "      <th>SQBage</th>\n",
       "      <th>SQBhogar_total</th>\n",
       "      <th>SQBedjefe</th>\n",
       "      <th>SQBhogar_nin</th>\n",
       "      <th>SQBovercrowding</th>\n",
       "      <th>SQBdependency</th>\n",
       "      <th>SQBmeaned</th>\n",
       "      <th>agesq</th>\n",
       "      <th>Target</th>\n",
       "    </tr>\n",
       "  </thead>\n",
       "  <tbody>\n",
       "    <tr>\n",
       "      <th>0</th>\n",
       "      <td>ID_279628684</td>\n",
       "      <td>190000.0</td>\n",
       "      <td>0</td>\n",
       "      <td>3</td>\n",
       "      <td>0</td>\n",
       "      <td>1</td>\n",
       "      <td>1</td>\n",
       "      <td>0</td>\n",
       "      <td>NaN</td>\n",
       "      <td>0</td>\n",
       "      <td>...</td>\n",
       "      <td>100</td>\n",
       "      <td>1849</td>\n",
       "      <td>1</td>\n",
       "      <td>100</td>\n",
       "      <td>0</td>\n",
       "      <td>1.000000</td>\n",
       "      <td>0.0</td>\n",
       "      <td>100.0</td>\n",
       "      <td>1849</td>\n",
       "      <td>4</td>\n",
       "    </tr>\n",
       "    <tr>\n",
       "      <th>1</th>\n",
       "      <td>ID_f29eb3ddd</td>\n",
       "      <td>135000.0</td>\n",
       "      <td>0</td>\n",
       "      <td>4</td>\n",
       "      <td>0</td>\n",
       "      <td>1</td>\n",
       "      <td>1</td>\n",
       "      <td>1</td>\n",
       "      <td>1.0</td>\n",
       "      <td>0</td>\n",
       "      <td>...</td>\n",
       "      <td>144</td>\n",
       "      <td>4489</td>\n",
       "      <td>1</td>\n",
       "      <td>144</td>\n",
       "      <td>0</td>\n",
       "      <td>1.000000</td>\n",
       "      <td>64.0</td>\n",
       "      <td>144.0</td>\n",
       "      <td>4489</td>\n",
       "      <td>4</td>\n",
       "    </tr>\n",
       "    <tr>\n",
       "      <th>2</th>\n",
       "      <td>ID_68de51c94</td>\n",
       "      <td>NaN</td>\n",
       "      <td>0</td>\n",
       "      <td>8</td>\n",
       "      <td>0</td>\n",
       "      <td>1</td>\n",
       "      <td>1</td>\n",
       "      <td>0</td>\n",
       "      <td>NaN</td>\n",
       "      <td>0</td>\n",
       "      <td>...</td>\n",
       "      <td>121</td>\n",
       "      <td>8464</td>\n",
       "      <td>1</td>\n",
       "      <td>0</td>\n",
       "      <td>0</td>\n",
       "      <td>0.250000</td>\n",
       "      <td>64.0</td>\n",
       "      <td>121.0</td>\n",
       "      <td>8464</td>\n",
       "      <td>4</td>\n",
       "    </tr>\n",
       "    <tr>\n",
       "      <th>3</th>\n",
       "      <td>ID_d671db89c</td>\n",
       "      <td>180000.0</td>\n",
       "      <td>0</td>\n",
       "      <td>5</td>\n",
       "      <td>0</td>\n",
       "      <td>1</td>\n",
       "      <td>1</td>\n",
       "      <td>1</td>\n",
       "      <td>1.0</td>\n",
       "      <td>0</td>\n",
       "      <td>...</td>\n",
       "      <td>81</td>\n",
       "      <td>289</td>\n",
       "      <td>16</td>\n",
       "      <td>121</td>\n",
       "      <td>4</td>\n",
       "      <td>1.777778</td>\n",
       "      <td>1.0</td>\n",
       "      <td>121.0</td>\n",
       "      <td>289</td>\n",
       "      <td>4</td>\n",
       "    </tr>\n",
       "    <tr>\n",
       "      <th>4</th>\n",
       "      <td>ID_d56d6f5f5</td>\n",
       "      <td>180000.0</td>\n",
       "      <td>0</td>\n",
       "      <td>5</td>\n",
       "      <td>0</td>\n",
       "      <td>1</td>\n",
       "      <td>1</td>\n",
       "      <td>1</td>\n",
       "      <td>1.0</td>\n",
       "      <td>0</td>\n",
       "      <td>...</td>\n",
       "      <td>121</td>\n",
       "      <td>1369</td>\n",
       "      <td>16</td>\n",
       "      <td>121</td>\n",
       "      <td>4</td>\n",
       "      <td>1.777778</td>\n",
       "      <td>1.0</td>\n",
       "      <td>121.0</td>\n",
       "      <td>1369</td>\n",
       "      <td>4</td>\n",
       "    </tr>\n",
       "  </tbody>\n",
       "</table>\n",
       "<p>5 rows × 143 columns</p>\n",
       "</div>"
      ],
      "text/plain": [
       "             Id      v2a1  hacdor  rooms  hacapo  v14a  refrig  v18q  v18q1  \\\n",
       "0  ID_279628684  190000.0       0      3       0     1       1     0    NaN   \n",
       "1  ID_f29eb3ddd  135000.0       0      4       0     1       1     1    1.0   \n",
       "2  ID_68de51c94       NaN       0      8       0     1       1     0    NaN   \n",
       "3  ID_d671db89c  180000.0       0      5       0     1       1     1    1.0   \n",
       "4  ID_d56d6f5f5  180000.0       0      5       0     1       1     1    1.0   \n",
       "\n",
       "   r4h1  ...  SQBescolari  SQBage  SQBhogar_total  SQBedjefe  SQBhogar_nin  \\\n",
       "0     0  ...          100    1849               1        100             0   \n",
       "1     0  ...          144    4489               1        144             0   \n",
       "2     0  ...          121    8464               1          0             0   \n",
       "3     0  ...           81     289              16        121             4   \n",
       "4     0  ...          121    1369              16        121             4   \n",
       "\n",
       "   SQBovercrowding  SQBdependency  SQBmeaned  agesq  Target  \n",
       "0         1.000000            0.0      100.0   1849       4  \n",
       "1         1.000000           64.0      144.0   4489       4  \n",
       "2         0.250000           64.0      121.0   8464       4  \n",
       "3         1.777778            1.0      121.0    289       4  \n",
       "4         1.777778            1.0      121.0   1369       4  \n",
       "\n",
       "[5 rows x 143 columns]"
      ]
     },
     "execution_count": 320,
     "metadata": {},
     "output_type": "execute_result"
    }
   ],
   "source": [
    "train_df.head()"
   ]
  },
  {
   "cell_type": "code",
   "execution_count": 321,
   "metadata": {},
   "outputs": [
    {
     "data": {
      "text/html": [
       "<div>\n",
       "<style scoped>\n",
       "    .dataframe tbody tr th:only-of-type {\n",
       "        vertical-align: middle;\n",
       "    }\n",
       "\n",
       "    .dataframe tbody tr th {\n",
       "        vertical-align: top;\n",
       "    }\n",
       "\n",
       "    .dataframe thead th {\n",
       "        text-align: right;\n",
       "    }\n",
       "</style>\n",
       "<table border=\"1\" class=\"dataframe\">\n",
       "  <thead>\n",
       "    <tr style=\"text-align: right;\">\n",
       "      <th></th>\n",
       "      <th>Id</th>\n",
       "      <th>v2a1</th>\n",
       "      <th>hacdor</th>\n",
       "      <th>rooms</th>\n",
       "      <th>hacapo</th>\n",
       "      <th>v14a</th>\n",
       "      <th>refrig</th>\n",
       "      <th>v18q</th>\n",
       "      <th>v18q1</th>\n",
       "      <th>r4h1</th>\n",
       "      <th>...</th>\n",
       "      <th>SQBescolari</th>\n",
       "      <th>SQBage</th>\n",
       "      <th>SQBhogar_total</th>\n",
       "      <th>SQBedjefe</th>\n",
       "      <th>SQBhogar_nin</th>\n",
       "      <th>SQBovercrowding</th>\n",
       "      <th>SQBdependency</th>\n",
       "      <th>SQBmeaned</th>\n",
       "      <th>agesq</th>\n",
       "      <th>Target</th>\n",
       "    </tr>\n",
       "  </thead>\n",
       "  <tbody>\n",
       "    <tr>\n",
       "      <th>count</th>\n",
       "      <td>9557</td>\n",
       "      <td>2.697000e+03</td>\n",
       "      <td>9557.000000</td>\n",
       "      <td>9557.000000</td>\n",
       "      <td>9557.000000</td>\n",
       "      <td>9557.000000</td>\n",
       "      <td>9557.000000</td>\n",
       "      <td>9557.000000</td>\n",
       "      <td>2215.000000</td>\n",
       "      <td>9557.000000</td>\n",
       "      <td>...</td>\n",
       "      <td>9557.000000</td>\n",
       "      <td>9557.000000</td>\n",
       "      <td>9557.000000</td>\n",
       "      <td>9557.000000</td>\n",
       "      <td>9557.000000</td>\n",
       "      <td>9557.000000</td>\n",
       "      <td>9557.000000</td>\n",
       "      <td>9552.000000</td>\n",
       "      <td>9557.000000</td>\n",
       "      <td>9557.000000</td>\n",
       "    </tr>\n",
       "    <tr>\n",
       "      <th>unique</th>\n",
       "      <td>9557</td>\n",
       "      <td>NaN</td>\n",
       "      <td>NaN</td>\n",
       "      <td>NaN</td>\n",
       "      <td>NaN</td>\n",
       "      <td>NaN</td>\n",
       "      <td>NaN</td>\n",
       "      <td>NaN</td>\n",
       "      <td>NaN</td>\n",
       "      <td>NaN</td>\n",
       "      <td>...</td>\n",
       "      <td>NaN</td>\n",
       "      <td>NaN</td>\n",
       "      <td>NaN</td>\n",
       "      <td>NaN</td>\n",
       "      <td>NaN</td>\n",
       "      <td>NaN</td>\n",
       "      <td>NaN</td>\n",
       "      <td>NaN</td>\n",
       "      <td>NaN</td>\n",
       "      <td>NaN</td>\n",
       "    </tr>\n",
       "    <tr>\n",
       "      <th>top</th>\n",
       "      <td>ID_a7ea7786e</td>\n",
       "      <td>NaN</td>\n",
       "      <td>NaN</td>\n",
       "      <td>NaN</td>\n",
       "      <td>NaN</td>\n",
       "      <td>NaN</td>\n",
       "      <td>NaN</td>\n",
       "      <td>NaN</td>\n",
       "      <td>NaN</td>\n",
       "      <td>NaN</td>\n",
       "      <td>...</td>\n",
       "      <td>NaN</td>\n",
       "      <td>NaN</td>\n",
       "      <td>NaN</td>\n",
       "      <td>NaN</td>\n",
       "      <td>NaN</td>\n",
       "      <td>NaN</td>\n",
       "      <td>NaN</td>\n",
       "      <td>NaN</td>\n",
       "      <td>NaN</td>\n",
       "      <td>NaN</td>\n",
       "    </tr>\n",
       "    <tr>\n",
       "      <th>freq</th>\n",
       "      <td>1</td>\n",
       "      <td>NaN</td>\n",
       "      <td>NaN</td>\n",
       "      <td>NaN</td>\n",
       "      <td>NaN</td>\n",
       "      <td>NaN</td>\n",
       "      <td>NaN</td>\n",
       "      <td>NaN</td>\n",
       "      <td>NaN</td>\n",
       "      <td>NaN</td>\n",
       "      <td>...</td>\n",
       "      <td>NaN</td>\n",
       "      <td>NaN</td>\n",
       "      <td>NaN</td>\n",
       "      <td>NaN</td>\n",
       "      <td>NaN</td>\n",
       "      <td>NaN</td>\n",
       "      <td>NaN</td>\n",
       "      <td>NaN</td>\n",
       "      <td>NaN</td>\n",
       "      <td>NaN</td>\n",
       "    </tr>\n",
       "    <tr>\n",
       "      <th>mean</th>\n",
       "      <td>NaN</td>\n",
       "      <td>1.652316e+05</td>\n",
       "      <td>0.038087</td>\n",
       "      <td>4.955530</td>\n",
       "      <td>0.023648</td>\n",
       "      <td>0.994768</td>\n",
       "      <td>0.957623</td>\n",
       "      <td>0.231767</td>\n",
       "      <td>1.404063</td>\n",
       "      <td>0.385895</td>\n",
       "      <td>...</td>\n",
       "      <td>74.222769</td>\n",
       "      <td>1643.774302</td>\n",
       "      <td>19.132887</td>\n",
       "      <td>53.500262</td>\n",
       "      <td>3.844826</td>\n",
       "      <td>3.249485</td>\n",
       "      <td>3.900409</td>\n",
       "      <td>102.588867</td>\n",
       "      <td>1643.774302</td>\n",
       "      <td>3.302292</td>\n",
       "    </tr>\n",
       "    <tr>\n",
       "      <th>std</th>\n",
       "      <td>NaN</td>\n",
       "      <td>1.504571e+05</td>\n",
       "      <td>0.191417</td>\n",
       "      <td>1.468381</td>\n",
       "      <td>0.151957</td>\n",
       "      <td>0.072145</td>\n",
       "      <td>0.201459</td>\n",
       "      <td>0.421983</td>\n",
       "      <td>0.763131</td>\n",
       "      <td>0.680779</td>\n",
       "      <td>...</td>\n",
       "      <td>76.777549</td>\n",
       "      <td>1741.197050</td>\n",
       "      <td>18.751395</td>\n",
       "      <td>78.445804</td>\n",
       "      <td>6.946296</td>\n",
       "      <td>4.129547</td>\n",
       "      <td>12.511831</td>\n",
       "      <td>93.516890</td>\n",
       "      <td>1741.197050</td>\n",
       "      <td>1.009565</td>\n",
       "    </tr>\n",
       "    <tr>\n",
       "      <th>min</th>\n",
       "      <td>NaN</td>\n",
       "      <td>0.000000e+00</td>\n",
       "      <td>0.000000</td>\n",
       "      <td>1.000000</td>\n",
       "      <td>0.000000</td>\n",
       "      <td>0.000000</td>\n",
       "      <td>0.000000</td>\n",
       "      <td>0.000000</td>\n",
       "      <td>1.000000</td>\n",
       "      <td>0.000000</td>\n",
       "      <td>...</td>\n",
       "      <td>0.000000</td>\n",
       "      <td>0.000000</td>\n",
       "      <td>1.000000</td>\n",
       "      <td>0.000000</td>\n",
       "      <td>0.000000</td>\n",
       "      <td>0.040000</td>\n",
       "      <td>0.000000</td>\n",
       "      <td>0.000000</td>\n",
       "      <td>0.000000</td>\n",
       "      <td>1.000000</td>\n",
       "    </tr>\n",
       "    <tr>\n",
       "      <th>25%</th>\n",
       "      <td>NaN</td>\n",
       "      <td>8.000000e+04</td>\n",
       "      <td>0.000000</td>\n",
       "      <td>4.000000</td>\n",
       "      <td>0.000000</td>\n",
       "      <td>1.000000</td>\n",
       "      <td>1.000000</td>\n",
       "      <td>0.000000</td>\n",
       "      <td>1.000000</td>\n",
       "      <td>0.000000</td>\n",
       "      <td>...</td>\n",
       "      <td>16.000000</td>\n",
       "      <td>289.000000</td>\n",
       "      <td>9.000000</td>\n",
       "      <td>0.000000</td>\n",
       "      <td>0.000000</td>\n",
       "      <td>1.000000</td>\n",
       "      <td>0.111111</td>\n",
       "      <td>36.000000</td>\n",
       "      <td>289.000000</td>\n",
       "      <td>3.000000</td>\n",
       "    </tr>\n",
       "    <tr>\n",
       "      <th>50%</th>\n",
       "      <td>NaN</td>\n",
       "      <td>1.300000e+05</td>\n",
       "      <td>0.000000</td>\n",
       "      <td>5.000000</td>\n",
       "      <td>0.000000</td>\n",
       "      <td>1.000000</td>\n",
       "      <td>1.000000</td>\n",
       "      <td>0.000000</td>\n",
       "      <td>1.000000</td>\n",
       "      <td>0.000000</td>\n",
       "      <td>...</td>\n",
       "      <td>36.000000</td>\n",
       "      <td>961.000000</td>\n",
       "      <td>16.000000</td>\n",
       "      <td>36.000000</td>\n",
       "      <td>1.000000</td>\n",
       "      <td>2.250000</td>\n",
       "      <td>0.444444</td>\n",
       "      <td>81.000000</td>\n",
       "      <td>961.000000</td>\n",
       "      <td>4.000000</td>\n",
       "    </tr>\n",
       "    <tr>\n",
       "      <th>75%</th>\n",
       "      <td>NaN</td>\n",
       "      <td>2.000000e+05</td>\n",
       "      <td>0.000000</td>\n",
       "      <td>6.000000</td>\n",
       "      <td>0.000000</td>\n",
       "      <td>1.000000</td>\n",
       "      <td>1.000000</td>\n",
       "      <td>0.000000</td>\n",
       "      <td>2.000000</td>\n",
       "      <td>1.000000</td>\n",
       "      <td>...</td>\n",
       "      <td>121.000000</td>\n",
       "      <td>2601.000000</td>\n",
       "      <td>25.000000</td>\n",
       "      <td>81.000000</td>\n",
       "      <td>4.000000</td>\n",
       "      <td>4.000000</td>\n",
       "      <td>1.777778</td>\n",
       "      <td>134.560010</td>\n",
       "      <td>2601.000000</td>\n",
       "      <td>4.000000</td>\n",
       "    </tr>\n",
       "    <tr>\n",
       "      <th>max</th>\n",
       "      <td>NaN</td>\n",
       "      <td>2.353477e+06</td>\n",
       "      <td>1.000000</td>\n",
       "      <td>11.000000</td>\n",
       "      <td>1.000000</td>\n",
       "      <td>1.000000</td>\n",
       "      <td>1.000000</td>\n",
       "      <td>1.000000</td>\n",
       "      <td>6.000000</td>\n",
       "      <td>5.000000</td>\n",
       "      <td>...</td>\n",
       "      <td>441.000000</td>\n",
       "      <td>9409.000000</td>\n",
       "      <td>169.000000</td>\n",
       "      <td>441.000000</td>\n",
       "      <td>81.000000</td>\n",
       "      <td>36.000000</td>\n",
       "      <td>64.000000</td>\n",
       "      <td>1369.000000</td>\n",
       "      <td>9409.000000</td>\n",
       "      <td>4.000000</td>\n",
       "    </tr>\n",
       "  </tbody>\n",
       "</table>\n",
       "<p>11 rows × 143 columns</p>\n",
       "</div>"
      ],
      "text/plain": [
       "                  Id          v2a1       hacdor        rooms       hacapo  \\\n",
       "count           9557  2.697000e+03  9557.000000  9557.000000  9557.000000   \n",
       "unique          9557           NaN          NaN          NaN          NaN   \n",
       "top     ID_a7ea7786e           NaN          NaN          NaN          NaN   \n",
       "freq               1           NaN          NaN          NaN          NaN   \n",
       "mean             NaN  1.652316e+05     0.038087     4.955530     0.023648   \n",
       "std              NaN  1.504571e+05     0.191417     1.468381     0.151957   \n",
       "min              NaN  0.000000e+00     0.000000     1.000000     0.000000   \n",
       "25%              NaN  8.000000e+04     0.000000     4.000000     0.000000   \n",
       "50%              NaN  1.300000e+05     0.000000     5.000000     0.000000   \n",
       "75%              NaN  2.000000e+05     0.000000     6.000000     0.000000   \n",
       "max              NaN  2.353477e+06     1.000000    11.000000     1.000000   \n",
       "\n",
       "               v14a       refrig         v18q        v18q1         r4h1  ...  \\\n",
       "count   9557.000000  9557.000000  9557.000000  2215.000000  9557.000000  ...   \n",
       "unique          NaN          NaN          NaN          NaN          NaN  ...   \n",
       "top             NaN          NaN          NaN          NaN          NaN  ...   \n",
       "freq            NaN          NaN          NaN          NaN          NaN  ...   \n",
       "mean       0.994768     0.957623     0.231767     1.404063     0.385895  ...   \n",
       "std        0.072145     0.201459     0.421983     0.763131     0.680779  ...   \n",
       "min        0.000000     0.000000     0.000000     1.000000     0.000000  ...   \n",
       "25%        1.000000     1.000000     0.000000     1.000000     0.000000  ...   \n",
       "50%        1.000000     1.000000     0.000000     1.000000     0.000000  ...   \n",
       "75%        1.000000     1.000000     0.000000     2.000000     1.000000  ...   \n",
       "max        1.000000     1.000000     1.000000     6.000000     5.000000  ...   \n",
       "\n",
       "        SQBescolari       SQBage  SQBhogar_total    SQBedjefe  SQBhogar_nin  \\\n",
       "count   9557.000000  9557.000000     9557.000000  9557.000000   9557.000000   \n",
       "unique          NaN          NaN             NaN          NaN           NaN   \n",
       "top             NaN          NaN             NaN          NaN           NaN   \n",
       "freq            NaN          NaN             NaN          NaN           NaN   \n",
       "mean      74.222769  1643.774302       19.132887    53.500262      3.844826   \n",
       "std       76.777549  1741.197050       18.751395    78.445804      6.946296   \n",
       "min        0.000000     0.000000        1.000000     0.000000      0.000000   \n",
       "25%       16.000000   289.000000        9.000000     0.000000      0.000000   \n",
       "50%       36.000000   961.000000       16.000000    36.000000      1.000000   \n",
       "75%      121.000000  2601.000000       25.000000    81.000000      4.000000   \n",
       "max      441.000000  9409.000000      169.000000   441.000000     81.000000   \n",
       "\n",
       "        SQBovercrowding  SQBdependency    SQBmeaned        agesq       Target  \n",
       "count       9557.000000    9557.000000  9552.000000  9557.000000  9557.000000  \n",
       "unique              NaN            NaN          NaN          NaN          NaN  \n",
       "top                 NaN            NaN          NaN          NaN          NaN  \n",
       "freq                NaN            NaN          NaN          NaN          NaN  \n",
       "mean           3.249485       3.900409   102.588867  1643.774302     3.302292  \n",
       "std            4.129547      12.511831    93.516890  1741.197050     1.009565  \n",
       "min            0.040000       0.000000     0.000000     0.000000     1.000000  \n",
       "25%            1.000000       0.111111    36.000000   289.000000     3.000000  \n",
       "50%            2.250000       0.444444    81.000000   961.000000     4.000000  \n",
       "75%            4.000000       1.777778   134.560010  2601.000000     4.000000  \n",
       "max           36.000000      64.000000  1369.000000  9409.000000     4.000000  \n",
       "\n",
       "[11 rows x 143 columns]"
      ]
     },
     "execution_count": 321,
     "metadata": {},
     "output_type": "execute_result"
    }
   ],
   "source": [
    "train_df.describe(include=\"all\")"
   ]
  },
  {
   "cell_type": "code",
   "execution_count": 322,
   "metadata": {},
   "outputs": [
    {
     "data": {
      "text/plain": [
       "(9557, 143)"
      ]
     },
     "execution_count": 322,
     "metadata": {},
     "output_type": "execute_result"
    }
   ],
   "source": [
    "train_df.shape"
   ]
  },
  {
   "cell_type": "code",
   "execution_count": 323,
   "metadata": {},
   "outputs": [
    {
     "name": "stdout",
     "output_type": "stream",
     "text": [
      "1 6860\n",
      "8 7342\n",
      "21 7928\n",
      "103 5\n",
      "140 5\n"
     ]
    }
   ],
   "source": [
    "\n",
    "x = list(train_df.isnull().sum())\n",
    "for index, val in enumerate(x):\n",
    "    if val > 0:\n",
    "        print(index, val)\n"
   ]
  },
  {
   "cell_type": "code",
   "execution_count": 324,
   "metadata": {},
   "outputs": [
    {
     "data": {
      "text/html": [
       "<div>\n",
       "<style scoped>\n",
       "    .dataframe tbody tr th:only-of-type {\n",
       "        vertical-align: middle;\n",
       "    }\n",
       "\n",
       "    .dataframe tbody tr th {\n",
       "        vertical-align: top;\n",
       "    }\n",
       "\n",
       "    .dataframe thead th {\n",
       "        text-align: right;\n",
       "    }\n",
       "</style>\n",
       "<table border=\"1\" class=\"dataframe\">\n",
       "  <thead>\n",
       "    <tr style=\"text-align: right;\">\n",
       "      <th></th>\n",
       "      <th>v2a1</th>\n",
       "      <th>v18q1</th>\n",
       "      <th>rez_esc</th>\n",
       "      <th>meaneduc</th>\n",
       "      <th>SQBmeaned</th>\n",
       "    </tr>\n",
       "  </thead>\n",
       "  <tbody>\n",
       "    <tr>\n",
       "      <th>0</th>\n",
       "      <td>190000.0</td>\n",
       "      <td>NaN</td>\n",
       "      <td>NaN</td>\n",
       "      <td>10.00</td>\n",
       "      <td>100.0000</td>\n",
       "    </tr>\n",
       "    <tr>\n",
       "      <th>1</th>\n",
       "      <td>135000.0</td>\n",
       "      <td>1.0</td>\n",
       "      <td>NaN</td>\n",
       "      <td>12.00</td>\n",
       "      <td>144.0000</td>\n",
       "    </tr>\n",
       "    <tr>\n",
       "      <th>2</th>\n",
       "      <td>NaN</td>\n",
       "      <td>NaN</td>\n",
       "      <td>NaN</td>\n",
       "      <td>11.00</td>\n",
       "      <td>121.0000</td>\n",
       "    </tr>\n",
       "    <tr>\n",
       "      <th>3</th>\n",
       "      <td>180000.0</td>\n",
       "      <td>1.0</td>\n",
       "      <td>1.0</td>\n",
       "      <td>11.00</td>\n",
       "      <td>121.0000</td>\n",
       "    </tr>\n",
       "    <tr>\n",
       "      <th>4</th>\n",
       "      <td>180000.0</td>\n",
       "      <td>1.0</td>\n",
       "      <td>NaN</td>\n",
       "      <td>11.00</td>\n",
       "      <td>121.0000</td>\n",
       "    </tr>\n",
       "    <tr>\n",
       "      <th>...</th>\n",
       "      <td>...</td>\n",
       "      <td>...</td>\n",
       "      <td>...</td>\n",
       "      <td>...</td>\n",
       "      <td>...</td>\n",
       "    </tr>\n",
       "    <tr>\n",
       "      <th>9552</th>\n",
       "      <td>80000.0</td>\n",
       "      <td>NaN</td>\n",
       "      <td>NaN</td>\n",
       "      <td>8.25</td>\n",
       "      <td>68.0625</td>\n",
       "    </tr>\n",
       "    <tr>\n",
       "      <th>9553</th>\n",
       "      <td>80000.0</td>\n",
       "      <td>NaN</td>\n",
       "      <td>NaN</td>\n",
       "      <td>8.25</td>\n",
       "      <td>68.0625</td>\n",
       "    </tr>\n",
       "    <tr>\n",
       "      <th>9554</th>\n",
       "      <td>80000.0</td>\n",
       "      <td>NaN</td>\n",
       "      <td>NaN</td>\n",
       "      <td>8.25</td>\n",
       "      <td>68.0625</td>\n",
       "    </tr>\n",
       "    <tr>\n",
       "      <th>9555</th>\n",
       "      <td>80000.0</td>\n",
       "      <td>NaN</td>\n",
       "      <td>NaN</td>\n",
       "      <td>8.25</td>\n",
       "      <td>68.0625</td>\n",
       "    </tr>\n",
       "    <tr>\n",
       "      <th>9556</th>\n",
       "      <td>80000.0</td>\n",
       "      <td>NaN</td>\n",
       "      <td>NaN</td>\n",
       "      <td>8.25</td>\n",
       "      <td>68.0625</td>\n",
       "    </tr>\n",
       "  </tbody>\n",
       "</table>\n",
       "<p>9557 rows × 5 columns</p>\n",
       "</div>"
      ],
      "text/plain": [
       "          v2a1  v18q1  rez_esc  meaneduc  SQBmeaned\n",
       "0     190000.0    NaN      NaN     10.00   100.0000\n",
       "1     135000.0    1.0      NaN     12.00   144.0000\n",
       "2          NaN    NaN      NaN     11.00   121.0000\n",
       "3     180000.0    1.0      1.0     11.00   121.0000\n",
       "4     180000.0    1.0      NaN     11.00   121.0000\n",
       "...        ...    ...      ...       ...        ...\n",
       "9552   80000.0    NaN      NaN      8.25    68.0625\n",
       "9553   80000.0    NaN      NaN      8.25    68.0625\n",
       "9554   80000.0    NaN      NaN      8.25    68.0625\n",
       "9555   80000.0    NaN      NaN      8.25    68.0625\n",
       "9556   80000.0    NaN      NaN      8.25    68.0625\n",
       "\n",
       "[9557 rows x 5 columns]"
      ]
     },
     "execution_count": 324,
     "metadata": {},
     "output_type": "execute_result"
    }
   ],
   "source": [
    "train_df.iloc[:, [1, 8, 21, 103, 140]]"
   ]
  },
  {
   "cell_type": "markdown",
   "metadata": {},
   "source": [
    "## These columns have missing values"
   ]
  },
  {
   "cell_type": "markdown",
   "metadata": {},
   "source": [
    "# Output variable"
   ]
  },
  {
   "cell_type": "code",
   "execution_count": 325,
   "metadata": {},
   "outputs": [
    {
     "data": {
      "text/plain": [
       "0       4\n",
       "1       4\n",
       "2       4\n",
       "3       4\n",
       "4       4\n",
       "       ..\n",
       "9552    2\n",
       "9553    2\n",
       "9554    2\n",
       "9555    2\n",
       "9556    2\n",
       "Name: Target, Length: 9557, dtype: int64"
      ]
     },
     "execution_count": 325,
     "metadata": {},
     "output_type": "execute_result"
    }
   ],
   "source": [
    "output = train_df[\"Target\"]\n",
    "output"
   ]
  },
  {
   "cell_type": "code",
   "execution_count": 332,
   "metadata": {},
   "outputs": [
    {
     "data": {
      "text/plain": [
       "<AxesSubplot:>"
      ]
     },
     "execution_count": 332,
     "metadata": {},
     "output_type": "execute_result"
    },
    {
     "data": {
      "image/png": "[encoded data removed]",
      "text/plain": [
       "<Figure size 432x288 with 1 Axes>"
      ]
     },
     "metadata": {
      "needs_background": "light"
     },
     "output_type": "display_data"
    }
   ],
   "source": [
    "barplot = train_df[\"Target\"].value_counts()\n",
    "barplot.plot.bar()"
   ]
  },
  {
   "cell_type": "markdown",
   "metadata": {},
   "source": [
    "## Bar plot resutls show the data is not uniformly distributed and showed bias towards level 4"
   ]
  },
  {
   "cell_type": "markdown",
   "metadata": {},
   "source": [
    "# Identify type of data"
   ]
  },
  {
   "cell_type": "code",
   "execution_count": 333,
   "metadata": {
    "scrolled": true
   },
   "outputs": [
    {
     "data": {
      "text/plain": [
       "<bound method DataFrame.info of                 Id      v2a1  hacdor  rooms  hacapo  v14a  refrig  v18q  \\\n",
       "0     ID_279628684  190000.0       0      3       0     1       1     0   \n",
       "1     ID_f29eb3ddd  135000.0       0      4       0     1       1     1   \n",
       "2     ID_68de51c94       NaN       0      8       0     1       1     0   \n",
       "3     ID_d671db89c  180000.0       0      5       0     1       1     1   \n",
       "4     ID_d56d6f5f5  180000.0       0      5       0     1       1     1   \n",
       "...            ...       ...     ...    ...     ...   ...     ...   ...   \n",
       "9552  ID_d45ae367d   80000.0       0      6       0     1       1     0   \n",
       "9553  ID_c94744e07   80000.0       0      6       0     1       1     0   \n",
       "9554  ID_85fc658f8   80000.0       0      6       0     1       1     0   \n",
       "9555  ID_ced540c61   80000.0       0      6       0     1       1     0   \n",
       "9556  ID_a38c64491   80000.0       0      6       0     1       1     0   \n",
       "\n",
       "      v18q1  r4h1  ...  SQBescolari  SQBage  SQBhogar_total  SQBedjefe  \\\n",
       "0       NaN     0  ...          100    1849               1        100   \n",
       "1       1.0     0  ...          144    4489               1        144   \n",
       "2       NaN     0  ...          121    8464               1          0   \n",
       "3       1.0     0  ...           81     289              16        121   \n",
       "4       1.0     0  ...          121    1369              16        121   \n",
       "...     ...   ...  ...          ...     ...             ...        ...   \n",
       "9552    NaN     0  ...           81    2116              25         81   \n",
       "9553    NaN     0  ...            0       4              25         81   \n",
       "9554    NaN     0  ...           25    2500              25         81   \n",
       "9555    NaN     0  ...          121     676              25         81   \n",
       "9556    NaN     0  ...           64     441              25         81   \n",
       "\n",
       "      SQBhogar_nin  SQBovercrowding  SQBdependency  SQBmeaned  agesq  Target  \n",
       "0                0         1.000000         0.0000   100.0000   1849       4  \n",
       "1                0         1.000000        64.0000   144.0000   4489       4  \n",
       "2                0         0.250000        64.0000   121.0000   8464       4  \n",
       "3                4         1.777778         1.0000   121.0000    289       4  \n",
       "4                4         1.777778         1.0000   121.0000   1369       4  \n",
       "...            ...              ...            ...        ...    ...     ...  \n",
       "9552             1         1.562500         0.0625    68.0625   2116       2  \n",
       "9553             1         1.562500         0.0625    68.0625      4       2  \n",
       "9554             1         1.562500         0.0625    68.0625   2500       2  \n",
       "9555             1         1.562500         0.0625    68.0625    676       2  \n",
       "9556             1         1.562500         0.0625    68.0625    441       2  \n",
       "\n",
       "[9557 rows x 143 columns]>"
      ]
     },
     "execution_count": 333,
     "metadata": {},
     "output_type": "execute_result"
    }
   ],
   "source": [
    "\n",
    "train_df.info"
   ]
  },
  {
   "cell_type": "code",
   "execution_count": 335,
   "metadata": {},
   "outputs": [
    {
     "data": {
      "text/html": [
       "<div>\n",
       "<style scoped>\n",
       "    .dataframe tbody tr th:only-of-type {\n",
       "        vertical-align: middle;\n",
       "    }\n",
       "\n",
       "    .dataframe tbody tr th {\n",
       "        vertical-align: top;\n",
       "    }\n",
       "\n",
       "    .dataframe thead th {\n",
       "        text-align: right;\n",
       "    }\n",
       "</style>\n",
       "<table border=\"1\" class=\"dataframe\">\n",
       "  <thead>\n",
       "    <tr style=\"text-align: right;\">\n",
       "      <th></th>\n",
       "      <th>0</th>\n",
       "    </tr>\n",
       "  </thead>\n",
       "  <tbody>\n",
       "    <tr>\n",
       "      <th>Id</th>\n",
       "      <td>object</td>\n",
       "    </tr>\n",
       "    <tr>\n",
       "      <th>v2a1</th>\n",
       "      <td>float64</td>\n",
       "    </tr>\n",
       "    <tr>\n",
       "      <th>hacdor</th>\n",
       "      <td>int64</td>\n",
       "    </tr>\n",
       "    <tr>\n",
       "      <th>rooms</th>\n",
       "      <td>int64</td>\n",
       "    </tr>\n",
       "    <tr>\n",
       "      <th>hacapo</th>\n",
       "      <td>int64</td>\n",
       "    </tr>\n",
       "    <tr>\n",
       "      <th>...</th>\n",
       "      <td>...</td>\n",
       "    </tr>\n",
       "    <tr>\n",
       "      <th>SQBovercrowding</th>\n",
       "      <td>float64</td>\n",
       "    </tr>\n",
       "    <tr>\n",
       "      <th>SQBdependency</th>\n",
       "      <td>float64</td>\n",
       "    </tr>\n",
       "    <tr>\n",
       "      <th>SQBmeaned</th>\n",
       "      <td>float64</td>\n",
       "    </tr>\n",
       "    <tr>\n",
       "      <th>agesq</th>\n",
       "      <td>int64</td>\n",
       "    </tr>\n",
       "    <tr>\n",
       "      <th>Target</th>\n",
       "      <td>int64</td>\n",
       "    </tr>\n",
       "  </tbody>\n",
       "</table>\n",
       "<p>143 rows × 1 columns</p>\n",
       "</div>"
      ],
      "text/plain": [
       "                       0\n",
       "Id                object\n",
       "v2a1             float64\n",
       "hacdor             int64\n",
       "rooms              int64\n",
       "hacapo             int64\n",
       "...                  ...\n",
       "SQBovercrowding  float64\n",
       "SQBdependency    float64\n",
       "SQBmeaned        float64\n",
       "agesq              int64\n",
       "Target             int64\n",
       "\n",
       "[143 rows x 1 columns]"
      ]
     },
     "execution_count": 335,
     "metadata": {},
     "output_type": "execute_result"
    }
   ],
   "source": [
    "dtype = train_df.dtypes\n",
    "dtype = pd.DataFrame(dtype)\n",
    "dtype"
   ]
  },
  {
   "cell_type": "code",
   "execution_count": 336,
   "metadata": {},
   "outputs": [
    {
     "data": {
      "text/plain": [
       "array([dtype('O'), dtype('float64'), dtype('int64')], dtype=object)"
      ]
     },
     "execution_count": 336,
     "metadata": {},
     "output_type": "execute_result"
    }
   ],
   "source": [
    "dtype.iloc[:, 0].unique()"
   ]
  },
  {
   "cell_type": "code",
   "execution_count": 337,
   "metadata": {},
   "outputs": [
    {
     "name": "stdout",
     "output_type": "stream",
     "text": [
      "The columns thata are object type:                  0\n",
      "Id          object\n",
      "idhogar     object\n",
      "dependency  object\n",
      "edjefe      object\n",
      "edjefa      object\n",
      "The columns thata are float type:                        0\n",
      "v2a1             float64\n",
      "v18q1            float64\n",
      "rez_esc          float64\n",
      "meaneduc         float64\n",
      "overcrowding     float64\n",
      "SQBovercrowding  float64\n",
      "SQBdependency    float64\n",
      "SQBmeaned        float64\n",
      "The columns thata are int type:                     0\n",
      "hacdor          int64\n",
      "rooms           int64\n",
      "hacapo          int64\n",
      "v14a            int64\n",
      "refrig          int64\n",
      "...               ...\n",
      "SQBhogar_total  int64\n",
      "SQBedjefe       int64\n",
      "SQBhogar_nin    int64\n",
      "agesq           int64\n",
      "Target          int64\n",
      "\n",
      "[130 rows x 1 columns]\n"
     ]
    }
   ],
   "source": [
    "print(\"The columns thata are object type:\", dtype[dtype.iloc[:,0]==\"object\"])\n",
    "print(\"The columns thata are float type:\", dtype[dtype.iloc[:,0]==\"float64\"])\n",
    "print(\"The columns thata are int type:\", dtype[dtype.iloc[:,0]==\"int64\"])\n",
    "\n",
    "           "
   ]
  },
  {
   "cell_type": "markdown",
   "metadata": {},
   "source": [
    "##  Check if there are any biases in your dataset"
   ]
  },
  {
   "cell_type": "code",
   "execution_count": 338,
   "metadata": {},
   "outputs": [
    {
     "data": {
      "text/plain": [
       "<AxesSubplot:>"
      ]
     },
     "execution_count": 338,
     "metadata": {},
     "output_type": "execute_result"
    },
    {
     "data": {
      "image/png": "[encoded data removed]",
      "text/plain": [
       "<Figure size 432x288 with 1 Axes>"
      ]
     },
     "metadata": {
      "needs_background": "light"
     },
     "output_type": "display_data"
    }
   ],
   "source": [
    "train_df[\"Target\"].value_counts().plot.bar()"
   ]
  },
  {
   "cell_type": "markdown",
   "metadata": {},
   "source": [
    "## The graph above shows the data are imbalance and showed more data for level 4."
   ]
  },
  {
   "cell_type": "code",
   "execution_count": null,
   "metadata": {},
   "outputs": [],
   "source": []
  },
  {
   "cell_type": "markdown",
   "metadata": {},
   "source": [
    "# Check whether all members of the house have the same poverty level."
   ]
  },
  {
   "cell_type": "code",
   "execution_count": 339,
   "metadata": {},
   "outputs": [
    {
     "data": {
      "text/plain": [
       "idhogar\n",
       "001ff74ca    True\n",
       "003123ec2    True\n",
       "004616164    True\n",
       "004983866    True\n",
       "005905417    True\n",
       "             ... \n",
       "ff9343a35    True\n",
       "ff9d5ab17    True\n",
       "ffae4a097    True\n",
       "ffe90d46f    True\n",
       "fff7d6be1    True\n",
       "Name: Target, Length: 2988, dtype: bool"
      ]
     },
     "execution_count": 339,
     "metadata": {},
     "output_type": "execute_result"
    }
   ],
   "source": [
    "equal_train_df =train_df.groupby(\"idhogar\")[\"Target\"].apply(lambda x: x.nunique()==1)\n",
    "equal_train_df"
   ]
  },
  {
   "cell_type": "code",
   "execution_count": 340,
   "metadata": {},
   "outputs": [
    {
     "name": "stdout",
     "output_type": "stream",
     "text": [
      "The number of households not have same poverty level is: 85\n"
     ]
    }
   ],
   "source": [
    "not_equal_train_df = equal_train_df[equal_train_df!=True]\n",
    "\n",
    "print(\"The number of households not have same poverty level is:\", len(not_equal_train_df))"
   ]
  },
  {
   "cell_type": "code",
   "execution_count": null,
   "metadata": {},
   "outputs": [],
   "source": []
  },
  {
   "cell_type": "markdown",
   "metadata": {},
   "source": [
    "# Check if there is a house without a family head"
   ]
  },
  {
   "cell_type": "code",
   "execution_count": 341,
   "metadata": {},
   "outputs": [],
   "source": [
    "househead_df = train_df.groupby(\"idhogar\")[\"parentesco1\"].sum()\n",
    "househead_missing\n",
    "\n",
    "househead_missing_df = train_df.loc[train_df['idhogar'].isin(househead_df[househead_df == 0].index)]"
   ]
  },
  {
   "cell_type": "code",
   "execution_count": 342,
   "metadata": {},
   "outputs": [
    {
     "name": "stdout",
     "output_type": "stream",
     "text": [
      "There are 15 households without a head.\n"
     ]
    }
   ],
   "source": [
    "print('There are {} households without a head.'.format(househead_missing_df['idhogar'].nunique()))"
   ]
  },
  {
   "cell_type": "markdown",
   "metadata": {},
   "source": [
    "# Check whether all members of the house have the same poverty level"
   ]
  },
  {
   "cell_type": "code",
   "execution_count": 343,
   "metadata": {},
   "outputs": [
    {
     "data": {
      "text/plain": [
       "female  Target\n",
       "0       4         2976\n",
       "        2          741\n",
       "        3          577\n",
       "        1          326\n",
       "1       4         3020\n",
       "        2          856\n",
       "        3          632\n",
       "        1          429\n",
       "Name: Target, dtype: int64"
      ]
     },
     "execution_count": 343,
     "metadata": {},
     "output_type": "execute_result"
    }
   ],
   "source": [
    "female_group =  train_df[\"Target\"].groupby(train_df[\"female\"]).value_counts()\n",
    "female_group "
   ]
  },
  {
   "cell_type": "code",
   "execution_count": 344,
   "metadata": {
    "scrolled": true
   },
   "outputs": [
    {
     "data": {
      "text/plain": [
       "(<AxesSubplot:xlabel='male,Target'>,\n",
       " <matplotlib.legend.Legend at 0x1fed23ffca0>)"
      ]
     },
     "execution_count": 344,
     "metadata": {},
     "output_type": "execute_result"
    },
    {
     "data": {
      "image/png": "[encoded data removed]",
      "text/plain": [
       "<Figure size 1080x360 with 1 Axes>"
      ]
     },
     "metadata": {
      "needs_background": "light"
     },
     "output_type": "display_data"
    }
   ],
   "source": [
    "plt.figure(figsize=(15,5))\n",
    "\n",
    "train_df[\"Target\"].groupby(train_df[\"male\"]).value_counts().plot.line(), plt.legend(\"male\")\n"
   ]
  },
  {
   "cell_type": "code",
   "execution_count": 345,
   "metadata": {},
   "outputs": [
    {
     "data": {
      "text/plain": [
       "(<AxesSubplot:xlabel='female,Target'>,\n",
       " <matplotlib.legend.Legend at 0x1fed2449fa0>)"
      ]
     },
     "execution_count": 345,
     "metadata": {},
     "output_type": "execute_result"
    },
    {
     "data": {
      "image/png": "[encoded data removed]",
      "text/plain": [
       "<Figure size 1080x360 with 1 Axes>"
      ]
     },
     "metadata": {
      "needs_background": "light"
     },
     "output_type": "display_data"
    }
   ],
   "source": [
    "plt.figure(figsize=(15,5))\n",
    "train_df[\"Target\"].groupby(train_df[\"female\"]).value_counts().plot.line(), plt.legend(\"female\")\n"
   ]
  },
  {
   "cell_type": "markdown",
   "metadata": {},
   "source": [
    "## The line plot shows that there is variablity in poverty level across age group in a house"
   ]
  },
  {
   "cell_type": "code",
   "execution_count": null,
   "metadata": {},
   "outputs": [],
   "source": []
  },
  {
   "cell_type": "markdown",
   "metadata": {},
   "source": [
    "# Set the poverty level of the members and the head of the house same in a family"
   ]
  },
  {
   "cell_type": "code",
   "execution_count": 346,
   "metadata": {},
   "outputs": [
    {
     "name": "stdout",
     "output_type": "stream",
     "text": [
      "There are 0 households where the family members do not all have the same target.\n"
     ]
    }
   ],
   "source": [
    "for members in not_equal_train_df.index:\n",
    "    target_1 = int(train_df[(train_df[\"idhogar\"]==members) & (train_df[\"parentesco1\"]==1.0)][\"Target\"])\n",
    "    \n",
    "    train_df.loc[train_df['idhogar'] == members, 'Target'] = target_1\n",
    "    \n",
    "equal_train_df = train_df.groupby('idhogar')['Target'].apply(lambda x: x.nunique() == 1)\n",
    "\n",
    "not_equal = equal_train_df[equal_train_df != True]\n",
    "\n",
    "print('There are {} households where the family members do not all have the same target.'.format(len(not_equal)))"
   ]
  },
  {
   "cell_type": "markdown",
   "metadata": {},
   "source": [
    "# Counts null values"
   ]
  },
  {
   "cell_type": "code",
   "execution_count": 352,
   "metadata": {},
   "outputs": [],
   "source": [
    "null_values = train_df.isnull().sum()\n",
    "null_values.reset_index\n",
    "lst = []\n",
    "for index, val in null_values.items():\n",
    "    if val > 0:\n",
    "        print(\"The column {} contains {} null values:\".format(index,val))\n"
   ]
  },
  {
   "cell_type": "code",
   "execution_count": 353,
   "metadata": {},
   "outputs": [
    {
     "data": {
      "text/plain": [
       "0"
      ]
     },
     "execution_count": 353,
     "metadata": {},
     "output_type": "execute_result"
    }
   ],
   "source": [
    "train_df[\"Target\"].isnull().sum()"
   ]
  },
  {
   "cell_type": "markdown",
   "metadata": {},
   "source": [
    "# Remove null value rows of the target variable"
   ]
  },
  {
   "cell_type": "code",
   "execution_count": 370,
   "metadata": {},
   "outputs": [],
   "source": [
    "train_na_filt_df = train_df.dropna(how=\"any\", axis=0)\n",
    "test_na_filt = test_df.dropna(how=\"any\", axis=0)"
   ]
  },
  {
   "cell_type": "code",
   "execution_count": 357,
   "metadata": {},
   "outputs": [
    {
     "data": {
      "text/html": [
       "<div>\n",
       "<style scoped>\n",
       "    .dataframe tbody tr th:only-of-type {\n",
       "        vertical-align: middle;\n",
       "    }\n",
       "\n",
       "    .dataframe tbody tr th {\n",
       "        vertical-align: top;\n",
       "    }\n",
       "\n",
       "    .dataframe thead th {\n",
       "        text-align: right;\n",
       "    }\n",
       "</style>\n",
       "<table border=\"1\" class=\"dataframe\">\n",
       "  <thead>\n",
       "    <tr style=\"text-align: right;\">\n",
       "      <th></th>\n",
       "      <th>Id</th>\n",
       "      <th>v2a1</th>\n",
       "      <th>hacdor</th>\n",
       "      <th>rooms</th>\n",
       "      <th>hacapo</th>\n",
       "      <th>v14a</th>\n",
       "      <th>refrig</th>\n",
       "      <th>v18q</th>\n",
       "      <th>v18q1</th>\n",
       "      <th>r4h1</th>\n",
       "      <th>...</th>\n",
       "      <th>SQBescolari</th>\n",
       "      <th>SQBage</th>\n",
       "      <th>SQBhogar_total</th>\n",
       "      <th>SQBedjefe</th>\n",
       "      <th>SQBhogar_nin</th>\n",
       "      <th>SQBovercrowding</th>\n",
       "      <th>SQBdependency</th>\n",
       "      <th>SQBmeaned</th>\n",
       "      <th>agesq</th>\n",
       "      <th>Target</th>\n",
       "    </tr>\n",
       "  </thead>\n",
       "  <tbody>\n",
       "    <tr>\n",
       "      <th>3</th>\n",
       "      <td>ID_d671db89c</td>\n",
       "      <td>180000.0</td>\n",
       "      <td>0</td>\n",
       "      <td>5</td>\n",
       "      <td>0</td>\n",
       "      <td>1</td>\n",
       "      <td>1</td>\n",
       "      <td>1</td>\n",
       "      <td>1.0</td>\n",
       "      <td>0</td>\n",
       "      <td>...</td>\n",
       "      <td>81</td>\n",
       "      <td>289</td>\n",
       "      <td>16</td>\n",
       "      <td>121</td>\n",
       "      <td>4</td>\n",
       "      <td>1.777778</td>\n",
       "      <td>1.0000</td>\n",
       "      <td>121.00</td>\n",
       "      <td>289</td>\n",
       "      <td>4</td>\n",
       "    </tr>\n",
       "    <tr>\n",
       "      <th>6</th>\n",
       "      <td>ID_e9e0c1100</td>\n",
       "      <td>180000.0</td>\n",
       "      <td>0</td>\n",
       "      <td>5</td>\n",
       "      <td>0</td>\n",
       "      <td>1</td>\n",
       "      <td>1</td>\n",
       "      <td>1</td>\n",
       "      <td>1.0</td>\n",
       "      <td>0</td>\n",
       "      <td>...</td>\n",
       "      <td>4</td>\n",
       "      <td>64</td>\n",
       "      <td>16</td>\n",
       "      <td>121</td>\n",
       "      <td>4</td>\n",
       "      <td>1.777778</td>\n",
       "      <td>1.0000</td>\n",
       "      <td>121.00</td>\n",
       "      <td>64</td>\n",
       "      <td>4</td>\n",
       "    </tr>\n",
       "    <tr>\n",
       "      <th>75</th>\n",
       "      <td>ID_dd93e20ec</td>\n",
       "      <td>350000.0</td>\n",
       "      <td>0</td>\n",
       "      <td>6</td>\n",
       "      <td>0</td>\n",
       "      <td>1</td>\n",
       "      <td>1</td>\n",
       "      <td>1</td>\n",
       "      <td>3.0</td>\n",
       "      <td>0</td>\n",
       "      <td>...</td>\n",
       "      <td>100</td>\n",
       "      <td>289</td>\n",
       "      <td>9</td>\n",
       "      <td>256</td>\n",
       "      <td>1</td>\n",
       "      <td>1.000000</td>\n",
       "      <td>0.2500</td>\n",
       "      <td>272.25</td>\n",
       "      <td>289</td>\n",
       "      <td>4</td>\n",
       "    </tr>\n",
       "    <tr>\n",
       "      <th>130</th>\n",
       "      <td>ID_651377e3e</td>\n",
       "      <td>260000.0</td>\n",
       "      <td>0</td>\n",
       "      <td>5</td>\n",
       "      <td>0</td>\n",
       "      <td>1</td>\n",
       "      <td>1</td>\n",
       "      <td>1</td>\n",
       "      <td>3.0</td>\n",
       "      <td>1</td>\n",
       "      <td>...</td>\n",
       "      <td>1</td>\n",
       "      <td>49</td>\n",
       "      <td>16</td>\n",
       "      <td>100</td>\n",
       "      <td>4</td>\n",
       "      <td>4.000000</td>\n",
       "      <td>1.0000</td>\n",
       "      <td>90.25</td>\n",
       "      <td>49</td>\n",
       "      <td>4</td>\n",
       "    </tr>\n",
       "    <tr>\n",
       "      <th>133</th>\n",
       "      <td>ID_272bdf973</td>\n",
       "      <td>260000.0</td>\n",
       "      <td>0</td>\n",
       "      <td>5</td>\n",
       "      <td>0</td>\n",
       "      <td>1</td>\n",
       "      <td>1</td>\n",
       "      <td>1</td>\n",
       "      <td>3.0</td>\n",
       "      <td>1</td>\n",
       "      <td>...</td>\n",
       "      <td>36</td>\n",
       "      <td>169</td>\n",
       "      <td>16</td>\n",
       "      <td>100</td>\n",
       "      <td>4</td>\n",
       "      <td>4.000000</td>\n",
       "      <td>1.0000</td>\n",
       "      <td>90.25</td>\n",
       "      <td>169</td>\n",
       "      <td>4</td>\n",
       "    </tr>\n",
       "    <tr>\n",
       "      <th>...</th>\n",
       "      <td>...</td>\n",
       "      <td>...</td>\n",
       "      <td>...</td>\n",
       "      <td>...</td>\n",
       "      <td>...</td>\n",
       "      <td>...</td>\n",
       "      <td>...</td>\n",
       "      <td>...</td>\n",
       "      <td>...</td>\n",
       "      <td>...</td>\n",
       "      <td>...</td>\n",
       "      <td>...</td>\n",
       "      <td>...</td>\n",
       "      <td>...</td>\n",
       "      <td>...</td>\n",
       "      <td>...</td>\n",
       "      <td>...</td>\n",
       "      <td>...</td>\n",
       "      <td>...</td>\n",
       "      <td>...</td>\n",
       "      <td>...</td>\n",
       "    </tr>\n",
       "    <tr>\n",
       "      <th>8991</th>\n",
       "      <td>ID_6edc54f34</td>\n",
       "      <td>100000.0</td>\n",
       "      <td>0</td>\n",
       "      <td>6</td>\n",
       "      <td>0</td>\n",
       "      <td>1</td>\n",
       "      <td>1</td>\n",
       "      <td>1</td>\n",
       "      <td>1.0</td>\n",
       "      <td>1</td>\n",
       "      <td>...</td>\n",
       "      <td>9</td>\n",
       "      <td>81</td>\n",
       "      <td>25</td>\n",
       "      <td>289</td>\n",
       "      <td>9</td>\n",
       "      <td>1.562500</td>\n",
       "      <td>2.2500</td>\n",
       "      <td>361.00</td>\n",
       "      <td>81</td>\n",
       "      <td>4</td>\n",
       "    </tr>\n",
       "    <tr>\n",
       "      <th>9037</th>\n",
       "      <td>ID_b7815bb34</td>\n",
       "      <td>150000.0</td>\n",
       "      <td>0</td>\n",
       "      <td>7</td>\n",
       "      <td>0</td>\n",
       "      <td>1</td>\n",
       "      <td>1</td>\n",
       "      <td>1</td>\n",
       "      <td>1.0</td>\n",
       "      <td>0</td>\n",
       "      <td>...</td>\n",
       "      <td>4</td>\n",
       "      <td>64</td>\n",
       "      <td>16</td>\n",
       "      <td>121</td>\n",
       "      <td>4</td>\n",
       "      <td>1.000000</td>\n",
       "      <td>1.0000</td>\n",
       "      <td>196.00</td>\n",
       "      <td>64</td>\n",
       "      <td>4</td>\n",
       "    </tr>\n",
       "    <tr>\n",
       "      <th>9039</th>\n",
       "      <td>ID_6019368cd</td>\n",
       "      <td>150000.0</td>\n",
       "      <td>0</td>\n",
       "      <td>7</td>\n",
       "      <td>0</td>\n",
       "      <td>1</td>\n",
       "      <td>1</td>\n",
       "      <td>1</td>\n",
       "      <td>1.0</td>\n",
       "      <td>0</td>\n",
       "      <td>...</td>\n",
       "      <td>100</td>\n",
       "      <td>256</td>\n",
       "      <td>16</td>\n",
       "      <td>121</td>\n",
       "      <td>4</td>\n",
       "      <td>1.000000</td>\n",
       "      <td>1.0000</td>\n",
       "      <td>196.00</td>\n",
       "      <td>256</td>\n",
       "      <td>4</td>\n",
       "    </tr>\n",
       "    <tr>\n",
       "      <th>9066</th>\n",
       "      <td>ID_cec76e220</td>\n",
       "      <td>40000.0</td>\n",
       "      <td>0</td>\n",
       "      <td>4</td>\n",
       "      <td>0</td>\n",
       "      <td>1</td>\n",
       "      <td>1</td>\n",
       "      <td>1</td>\n",
       "      <td>1.0</td>\n",
       "      <td>1</td>\n",
       "      <td>...</td>\n",
       "      <td>4</td>\n",
       "      <td>81</td>\n",
       "      <td>16</td>\n",
       "      <td>121</td>\n",
       "      <td>4</td>\n",
       "      <td>1.777778</td>\n",
       "      <td>1.0000</td>\n",
       "      <td>121.00</td>\n",
       "      <td>81</td>\n",
       "      <td>4</td>\n",
       "    </tr>\n",
       "    <tr>\n",
       "      <th>9213</th>\n",
       "      <td>ID_9750f0adc</td>\n",
       "      <td>100000.0</td>\n",
       "      <td>0</td>\n",
       "      <td>6</td>\n",
       "      <td>0</td>\n",
       "      <td>1</td>\n",
       "      <td>1</td>\n",
       "      <td>1</td>\n",
       "      <td>1.0</td>\n",
       "      <td>0</td>\n",
       "      <td>...</td>\n",
       "      <td>25</td>\n",
       "      <td>196</td>\n",
       "      <td>25</td>\n",
       "      <td>144</td>\n",
       "      <td>1</td>\n",
       "      <td>1.562500</td>\n",
       "      <td>0.0625</td>\n",
       "      <td>64.00</td>\n",
       "      <td>196</td>\n",
       "      <td>4</td>\n",
       "    </tr>\n",
       "  </tbody>\n",
       "</table>\n",
       "<p>156 rows × 143 columns</p>\n",
       "</div>"
      ],
      "text/plain": [
       "                Id      v2a1  hacdor  rooms  hacapo  v14a  refrig  v18q  \\\n",
       "3     ID_d671db89c  180000.0       0      5       0     1       1     1   \n",
       "6     ID_e9e0c1100  180000.0       0      5       0     1       1     1   \n",
       "75    ID_dd93e20ec  350000.0       0      6       0     1       1     1   \n",
       "130   ID_651377e3e  260000.0       0      5       0     1       1     1   \n",
       "133   ID_272bdf973  260000.0       0      5       0     1       1     1   \n",
       "...            ...       ...     ...    ...     ...   ...     ...   ...   \n",
       "8991  ID_6edc54f34  100000.0       0      6       0     1       1     1   \n",
       "9037  ID_b7815bb34  150000.0       0      7       0     1       1     1   \n",
       "9039  ID_6019368cd  150000.0       0      7       0     1       1     1   \n",
       "9066  ID_cec76e220   40000.0       0      4       0     1       1     1   \n",
       "9213  ID_9750f0adc  100000.0       0      6       0     1       1     1   \n",
       "\n",
       "      v18q1  r4h1  ...  SQBescolari  SQBage  SQBhogar_total  SQBedjefe  \\\n",
       "3       1.0     0  ...           81     289              16        121   \n",
       "6       1.0     0  ...            4      64              16        121   \n",
       "75      3.0     0  ...          100     289               9        256   \n",
       "130     3.0     1  ...            1      49              16        100   \n",
       "133     3.0     1  ...           36     169              16        100   \n",
       "...     ...   ...  ...          ...     ...             ...        ...   \n",
       "8991    1.0     1  ...            9      81              25        289   \n",
       "9037    1.0     0  ...            4      64              16        121   \n",
       "9039    1.0     0  ...          100     256              16        121   \n",
       "9066    1.0     1  ...            4      81              16        121   \n",
       "9213    1.0     0  ...           25     196              25        144   \n",
       "\n",
       "      SQBhogar_nin  SQBovercrowding  SQBdependency  SQBmeaned  agesq  Target  \n",
       "3                4         1.777778         1.0000     121.00    289       4  \n",
       "6                4         1.777778         1.0000     121.00     64       4  \n",
       "75               1         1.000000         0.2500     272.25    289       4  \n",
       "130              4         4.000000         1.0000      90.25     49       4  \n",
       "133              4         4.000000         1.0000      90.25    169       4  \n",
       "...            ...              ...            ...        ...    ...     ...  \n",
       "8991             9         1.562500         2.2500     361.00     81       4  \n",
       "9037             4         1.000000         1.0000     196.00     64       4  \n",
       "9039             4         1.000000         1.0000     196.00    256       4  \n",
       "9066             4         1.777778         1.0000     121.00     81       4  \n",
       "9213             1         1.562500         0.0625      64.00    196       4  \n",
       "\n",
       "[156 rows x 143 columns]"
      ]
     },
     "execution_count": 357,
     "metadata": {},
     "output_type": "execute_result"
    }
   ],
   "source": [
    "train_na_filt_df"
   ]
  },
  {
   "cell_type": "code",
   "execution_count": 372,
   "metadata": {},
   "outputs": [
    {
     "data": {
      "text/plain": [
       "Id                 0\n",
       "v2a1               0\n",
       "hacdor             0\n",
       "rooms              0\n",
       "hacapo             0\n",
       "                  ..\n",
       "SQBhogar_nin       0\n",
       "SQBovercrowding    0\n",
       "SQBdependency      0\n",
       "SQBmeaned          0\n",
       "agesq              0\n",
       "Length: 142, dtype: int64"
      ]
     },
     "execution_count": 372,
     "metadata": {},
     "output_type": "execute_result"
    }
   ],
   "source": [
    "test_na_filt.isnull().sum()"
   ]
  },
  {
   "cell_type": "code",
   "execution_count": 358,
   "metadata": {},
   "outputs": [
    {
     "data": {
      "text/plain": [
       "Id                 0\n",
       "v2a1               0\n",
       "hacdor             0\n",
       "rooms              0\n",
       "hacapo             0\n",
       "                  ..\n",
       "SQBovercrowding    0\n",
       "SQBdependency      0\n",
       "SQBmeaned          0\n",
       "agesq              0\n",
       "Target             0\n",
       "Length: 143, dtype: int64"
      ]
     },
     "execution_count": 358,
     "metadata": {},
     "output_type": "execute_result"
    }
   ],
   "source": [
    "train_na_filt_df.isnull().sum()"
   ]
  },
  {
   "cell_type": "code",
   "execution_count": 374,
   "metadata": {},
   "outputs": [
    {
     "data": {
      "text/plain": [
       "318      .25\n",
       "335      yes\n",
       "486      .75\n",
       "498       .5\n",
       "540      .75\n",
       "        ... \n",
       "22619    1.5\n",
       "23091    yes\n",
       "23335    yes\n",
       "23579    1.5\n",
       "23583    1.5\n",
       "Name: dependency, Length: 448, dtype: object"
      ]
     },
     "execution_count": 374,
     "metadata": {},
     "output_type": "execute_result"
    }
   ],
   "source": []
  },
  {
   "cell_type": "markdown",
   "metadata": {},
   "source": [
    "# Predict the accuracy using random forest classifie"
   ]
  },
  {
   "cell_type": "code",
   "execution_count": 359,
   "metadata": {},
   "outputs": [],
   "source": [
    "X = train_na_filt_df.drop(\"Target\", axis=1)\n",
    "y = train_na_filt_df[\"Target\"]"
   ]
  },
  {
   "cell_type": "code",
   "execution_count": 376,
   "metadata": {},
   "outputs": [],
   "source": [
    "from sklearn.preprocessing import LabelEncoder\n",
    "le = LabelEncoder()\n",
    "X[\"dependency\"] = le.fit_transform(X[\"dependency\"])\n",
    "X[\"edjefe\"] = le.fit_transform(X[\"edjefe\"])\n",
    "X[\"edjefa\"] = le.fit_transform(X[\"edjefa\"])\n",
    "\n",
    "\n",
    "test_na_filt[\"dependency\"] = le.fit_transform(test_na_filt[\"dependency\"])\n",
    "test_na_filt[\"edjefe\"] = le.fit_transform(test_na_filt[\"edjefe\"])\n",
    "test_na_filt[\"edjefa\"] = le.fit_transform(test_na_filt[\"edjefa\"])"
   ]
  },
  {
   "cell_type": "code",
   "execution_count": 380,
   "metadata": {},
   "outputs": [],
   "source": [
    "X = X.drop([\"Id\", \"idhogar\"], axis=1)\n",
    "\n",
    "test_data = test_na_filt.drop([\"Id\", \"idhogar\"], axis=1)"
   ]
  },
  {
   "cell_type": "code",
   "execution_count": 381,
   "metadata": {},
   "outputs": [],
   "source": [
    "from sklearn.model_selection import train_test_split\n",
    "\n",
    "X_train, X_test, y_train, y_test = train_test_split(X,y, test_size=0.2, random_state=21)"
   ]
  },
  {
   "cell_type": "code",
   "execution_count": 382,
   "metadata": {
    "scrolled": true
   },
   "outputs": [
    {
     "name": "stdout",
     "output_type": "stream",
     "text": [
      "The shape of X_train is: (124, 140)\n",
      "The shape of X_test is: (32, 140)\n",
      "The shape of y_train is: (124,)\n",
      "The shape of y_test is: (32,)\n"
     ]
    }
   ],
   "source": [
    "print(\"The shape of X_train is:\", X_train.shape)\n",
    "print(\"The shape of X_test is:\", X_test.shape)\n",
    "print(\"The shape of y_train is:\", y_train.shape)\n",
    "print(\"The shape of y_test is:\", y_test.shape)"
   ]
  },
  {
   "cell_type": "code",
   "execution_count": 383,
   "metadata": {},
   "outputs": [
    {
     "data": {
      "text/html": [
       "<div>\n",
       "<style scoped>\n",
       "    .dataframe tbody tr th:only-of-type {\n",
       "        vertical-align: middle;\n",
       "    }\n",
       "\n",
       "    .dataframe tbody tr th {\n",
       "        vertical-align: top;\n",
       "    }\n",
       "\n",
       "    .dataframe thead th {\n",
       "        text-align: right;\n",
       "    }\n",
       "</style>\n",
       "<table border=\"1\" class=\"dataframe\">\n",
       "  <thead>\n",
       "    <tr style=\"text-align: right;\">\n",
       "      <th></th>\n",
       "      <th>v2a1</th>\n",
       "      <th>hacdor</th>\n",
       "      <th>rooms</th>\n",
       "      <th>hacapo</th>\n",
       "      <th>v14a</th>\n",
       "      <th>refrig</th>\n",
       "      <th>v18q</th>\n",
       "      <th>v18q1</th>\n",
       "      <th>r4h1</th>\n",
       "      <th>r4h2</th>\n",
       "      <th>...</th>\n",
       "      <th>age</th>\n",
       "      <th>SQBescolari</th>\n",
       "      <th>SQBage</th>\n",
       "      <th>SQBhogar_total</th>\n",
       "      <th>SQBedjefe</th>\n",
       "      <th>SQBhogar_nin</th>\n",
       "      <th>SQBovercrowding</th>\n",
       "      <th>SQBdependency</th>\n",
       "      <th>SQBmeaned</th>\n",
       "      <th>agesq</th>\n",
       "    </tr>\n",
       "  </thead>\n",
       "  <tbody>\n",
       "    <tr>\n",
       "      <th>v2a1</th>\n",
       "      <td>1.000000</td>\n",
       "      <td>-0.062759</td>\n",
       "      <td>0.431479</td>\n",
       "      <td>-0.029847</td>\n",
       "      <td>NaN</td>\n",
       "      <td>NaN</td>\n",
       "      <td>NaN</td>\n",
       "      <td>0.422464</td>\n",
       "      <td>-0.045279</td>\n",
       "      <td>-0.114391</td>\n",
       "      <td>...</td>\n",
       "      <td>0.053647</td>\n",
       "      <td>0.046204</td>\n",
       "      <td>0.053373</td>\n",
       "      <td>-0.078065</td>\n",
       "      <td>0.497841</td>\n",
       "      <td>0.011902</td>\n",
       "      <td>-0.150800</td>\n",
       "      <td>-0.039269</td>\n",
       "      <td>0.413670</td>\n",
       "      <td>0.053373</td>\n",
       "    </tr>\n",
       "    <tr>\n",
       "      <th>hacdor</th>\n",
       "      <td>-0.062759</td>\n",
       "      <td>1.000000</td>\n",
       "      <td>-0.258360</td>\n",
       "      <td>0.572637</td>\n",
       "      <td>NaN</td>\n",
       "      <td>NaN</td>\n",
       "      <td>NaN</td>\n",
       "      <td>-0.092480</td>\n",
       "      <td>-0.046000</td>\n",
       "      <td>0.168770</td>\n",
       "      <td>...</td>\n",
       "      <td>-0.095398</td>\n",
       "      <td>-0.109007</td>\n",
       "      <td>-0.099034</td>\n",
       "      <td>0.354922</td>\n",
       "      <td>-0.106219</td>\n",
       "      <td>-0.066710</td>\n",
       "      <td>0.794403</td>\n",
       "      <td>-0.069258</td>\n",
       "      <td>-0.162897</td>\n",
       "      <td>-0.099034</td>\n",
       "    </tr>\n",
       "    <tr>\n",
       "      <th>rooms</th>\n",
       "      <td>0.431479</td>\n",
       "      <td>-0.258360</td>\n",
       "      <td>1.000000</td>\n",
       "      <td>-0.020104</td>\n",
       "      <td>NaN</td>\n",
       "      <td>NaN</td>\n",
       "      <td>NaN</td>\n",
       "      <td>0.258110</td>\n",
       "      <td>-0.082638</td>\n",
       "      <td>0.196507</td>\n",
       "      <td>...</td>\n",
       "      <td>0.198412</td>\n",
       "      <td>0.189596</td>\n",
       "      <td>0.197959</td>\n",
       "      <td>0.315343</td>\n",
       "      <td>0.419208</td>\n",
       "      <td>0.382274</td>\n",
       "      <td>-0.374783</td>\n",
       "      <td>0.133034</td>\n",
       "      <td>0.326951</td>\n",
       "      <td>0.197959</td>\n",
       "    </tr>\n",
       "    <tr>\n",
       "      <th>hacapo</th>\n",
       "      <td>-0.029847</td>\n",
       "      <td>0.572637</td>\n",
       "      <td>-0.020104</td>\n",
       "      <td>1.000000</td>\n",
       "      <td>NaN</td>\n",
       "      <td>NaN</td>\n",
       "      <td>NaN</td>\n",
       "      <td>-0.052957</td>\n",
       "      <td>0.065667</td>\n",
       "      <td>0.394380</td>\n",
       "      <td>...</td>\n",
       "      <td>-0.034705</td>\n",
       "      <td>-0.060303</td>\n",
       "      <td>-0.043727</td>\n",
       "      <td>0.677344</td>\n",
       "      <td>-0.093046</td>\n",
       "      <td>-0.038201</td>\n",
       "      <td>0.391385</td>\n",
       "      <td>-0.062693</td>\n",
       "      <td>-0.094914</td>\n",
       "      <td>-0.043727</td>\n",
       "    </tr>\n",
       "    <tr>\n",
       "      <th>v14a</th>\n",
       "      <td>NaN</td>\n",
       "      <td>NaN</td>\n",
       "      <td>NaN</td>\n",
       "      <td>NaN</td>\n",
       "      <td>NaN</td>\n",
       "      <td>NaN</td>\n",
       "      <td>NaN</td>\n",
       "      <td>NaN</td>\n",
       "      <td>NaN</td>\n",
       "      <td>NaN</td>\n",
       "      <td>...</td>\n",
       "      <td>NaN</td>\n",
       "      <td>NaN</td>\n",
       "      <td>NaN</td>\n",
       "      <td>NaN</td>\n",
       "      <td>NaN</td>\n",
       "      <td>NaN</td>\n",
       "      <td>NaN</td>\n",
       "      <td>NaN</td>\n",
       "      <td>NaN</td>\n",
       "      <td>NaN</td>\n",
       "    </tr>\n",
       "    <tr>\n",
       "      <th>...</th>\n",
       "      <td>...</td>\n",
       "      <td>...</td>\n",
       "      <td>...</td>\n",
       "      <td>...</td>\n",
       "      <td>...</td>\n",
       "      <td>...</td>\n",
       "      <td>...</td>\n",
       "      <td>...</td>\n",
       "      <td>...</td>\n",
       "      <td>...</td>\n",
       "      <td>...</td>\n",
       "      <td>...</td>\n",
       "      <td>...</td>\n",
       "      <td>...</td>\n",
       "      <td>...</td>\n",
       "      <td>...</td>\n",
       "      <td>...</td>\n",
       "      <td>...</td>\n",
       "      <td>...</td>\n",
       "      <td>...</td>\n",
       "      <td>...</td>\n",
       "    </tr>\n",
       "    <tr>\n",
       "      <th>SQBhogar_nin</th>\n",
       "      <td>0.011902</td>\n",
       "      <td>-0.066710</td>\n",
       "      <td>0.382274</td>\n",
       "      <td>-0.038201</td>\n",
       "      <td>NaN</td>\n",
       "      <td>NaN</td>\n",
       "      <td>NaN</td>\n",
       "      <td>0.149937</td>\n",
       "      <td>0.023769</td>\n",
       "      <td>0.226490</td>\n",
       "      <td>...</td>\n",
       "      <td>0.067993</td>\n",
       "      <td>0.069411</td>\n",
       "      <td>0.064105</td>\n",
       "      <td>0.522569</td>\n",
       "      <td>0.197646</td>\n",
       "      <td>1.000000</td>\n",
       "      <td>0.182587</td>\n",
       "      <td>0.549630</td>\n",
       "      <td>0.204208</td>\n",
       "      <td>0.064105</td>\n",
       "    </tr>\n",
       "    <tr>\n",
       "      <th>SQBovercrowding</th>\n",
       "      <td>-0.150800</td>\n",
       "      <td>0.794403</td>\n",
       "      <td>-0.374783</td>\n",
       "      <td>0.391385</td>\n",
       "      <td>NaN</td>\n",
       "      <td>NaN</td>\n",
       "      <td>NaN</td>\n",
       "      <td>-0.055397</td>\n",
       "      <td>-0.005391</td>\n",
       "      <td>0.180925</td>\n",
       "      <td>...</td>\n",
       "      <td>-0.130907</td>\n",
       "      <td>-0.158291</td>\n",
       "      <td>-0.139539</td>\n",
       "      <td>0.420313</td>\n",
       "      <td>-0.134397</td>\n",
       "      <td>0.182587</td>\n",
       "      <td>1.000000</td>\n",
       "      <td>0.029114</td>\n",
       "      <td>-0.197906</td>\n",
       "      <td>-0.139539</td>\n",
       "    </tr>\n",
       "    <tr>\n",
       "      <th>SQBdependency</th>\n",
       "      <td>-0.039269</td>\n",
       "      <td>-0.069258</td>\n",
       "      <td>0.133034</td>\n",
       "      <td>-0.062693</td>\n",
       "      <td>NaN</td>\n",
       "      <td>NaN</td>\n",
       "      <td>NaN</td>\n",
       "      <td>-0.067621</td>\n",
       "      <td>-0.053416</td>\n",
       "      <td>-0.253360</td>\n",
       "      <td>...</td>\n",
       "      <td>-0.028957</td>\n",
       "      <td>-0.029648</td>\n",
       "      <td>-0.034056</td>\n",
       "      <td>0.061840</td>\n",
       "      <td>-0.111610</td>\n",
       "      <td>0.549630</td>\n",
       "      <td>0.029114</td>\n",
       "      <td>1.000000</td>\n",
       "      <td>0.024904</td>\n",
       "      <td>-0.034056</td>\n",
       "    </tr>\n",
       "    <tr>\n",
       "      <th>SQBmeaned</th>\n",
       "      <td>0.413670</td>\n",
       "      <td>-0.162897</td>\n",
       "      <td>0.326951</td>\n",
       "      <td>-0.094914</td>\n",
       "      <td>NaN</td>\n",
       "      <td>NaN</td>\n",
       "      <td>NaN</td>\n",
       "      <td>0.194514</td>\n",
       "      <td>-0.067811</td>\n",
       "      <td>-0.010833</td>\n",
       "      <td>...</td>\n",
       "      <td>0.054343</td>\n",
       "      <td>0.083396</td>\n",
       "      <td>0.054411</td>\n",
       "      <td>-0.012241</td>\n",
       "      <td>0.672409</td>\n",
       "      <td>0.204208</td>\n",
       "      <td>-0.197906</td>\n",
       "      <td>0.024904</td>\n",
       "      <td>1.000000</td>\n",
       "      <td>0.054411</td>\n",
       "    </tr>\n",
       "    <tr>\n",
       "      <th>agesq</th>\n",
       "      <td>0.053373</td>\n",
       "      <td>-0.099034</td>\n",
       "      <td>0.197959</td>\n",
       "      <td>-0.043727</td>\n",
       "      <td>NaN</td>\n",
       "      <td>NaN</td>\n",
       "      <td>NaN</td>\n",
       "      <td>0.010631</td>\n",
       "      <td>-0.374880</td>\n",
       "      <td>0.116291</td>\n",
       "      <td>...</td>\n",
       "      <td>0.992748</td>\n",
       "      <td>0.955240</td>\n",
       "      <td>1.000000</td>\n",
       "      <td>0.007682</td>\n",
       "      <td>0.102838</td>\n",
       "      <td>0.064105</td>\n",
       "      <td>-0.139539</td>\n",
       "      <td>-0.034056</td>\n",
       "      <td>0.054411</td>\n",
       "      <td>1.000000</td>\n",
       "    </tr>\n",
       "  </tbody>\n",
       "</table>\n",
       "<p>140 rows × 140 columns</p>\n",
       "</div>"
      ],
      "text/plain": [
       "                     v2a1    hacdor     rooms    hacapo  v14a  refrig  v18q  \\\n",
       "v2a1             1.000000 -0.062759  0.431479 -0.029847   NaN     NaN   NaN   \n",
       "hacdor          -0.062759  1.000000 -0.258360  0.572637   NaN     NaN   NaN   \n",
       "rooms            0.431479 -0.258360  1.000000 -0.020104   NaN     NaN   NaN   \n",
       "hacapo          -0.029847  0.572637 -0.020104  1.000000   NaN     NaN   NaN   \n",
       "v14a                  NaN       NaN       NaN       NaN   NaN     NaN   NaN   \n",
       "...                   ...       ...       ...       ...   ...     ...   ...   \n",
       "SQBhogar_nin     0.011902 -0.066710  0.382274 -0.038201   NaN     NaN   NaN   \n",
       "SQBovercrowding -0.150800  0.794403 -0.374783  0.391385   NaN     NaN   NaN   \n",
       "SQBdependency   -0.039269 -0.069258  0.133034 -0.062693   NaN     NaN   NaN   \n",
       "SQBmeaned        0.413670 -0.162897  0.326951 -0.094914   NaN     NaN   NaN   \n",
       "agesq            0.053373 -0.099034  0.197959 -0.043727   NaN     NaN   NaN   \n",
       "\n",
       "                    v18q1      r4h1      r4h2  ...       age  SQBescolari  \\\n",
       "v2a1             0.422464 -0.045279 -0.114391  ...  0.053647     0.046204   \n",
       "hacdor          -0.092480 -0.046000  0.168770  ... -0.095398    -0.109007   \n",
       "rooms            0.258110 -0.082638  0.196507  ...  0.198412     0.189596   \n",
       "hacapo          -0.052957  0.065667  0.394380  ... -0.034705    -0.060303   \n",
       "v14a                  NaN       NaN       NaN  ...       NaN          NaN   \n",
       "...                   ...       ...       ...  ...       ...          ...   \n",
       "SQBhogar_nin     0.149937  0.023769  0.226490  ...  0.067993     0.069411   \n",
       "SQBovercrowding -0.055397 -0.005391  0.180925  ... -0.130907    -0.158291   \n",
       "SQBdependency   -0.067621 -0.053416 -0.253360  ... -0.028957    -0.029648   \n",
       "SQBmeaned        0.194514 -0.067811 -0.010833  ...  0.054343     0.083396   \n",
       "agesq            0.010631 -0.374880  0.116291  ...  0.992748     0.955240   \n",
       "\n",
       "                   SQBage  SQBhogar_total  SQBedjefe  SQBhogar_nin  \\\n",
       "v2a1             0.053373       -0.078065   0.497841      0.011902   \n",
       "hacdor          -0.099034        0.354922  -0.106219     -0.066710   \n",
       "rooms            0.197959        0.315343   0.419208      0.382274   \n",
       "hacapo          -0.043727        0.677344  -0.093046     -0.038201   \n",
       "v14a                  NaN             NaN        NaN           NaN   \n",
       "...                   ...             ...        ...           ...   \n",
       "SQBhogar_nin     0.064105        0.522569   0.197646      1.000000   \n",
       "SQBovercrowding -0.139539        0.420313  -0.134397      0.182587   \n",
       "SQBdependency   -0.034056        0.061840  -0.111610      0.549630   \n",
       "SQBmeaned        0.054411       -0.012241   0.672409      0.204208   \n",
       "agesq            1.000000        0.007682   0.102838      0.064105   \n",
       "\n",
       "                 SQBovercrowding  SQBdependency  SQBmeaned     agesq  \n",
       "v2a1                   -0.150800      -0.039269   0.413670  0.053373  \n",
       "hacdor                  0.794403      -0.069258  -0.162897 -0.099034  \n",
       "rooms                  -0.374783       0.133034   0.326951  0.197959  \n",
       "hacapo                  0.391385      -0.062693  -0.094914 -0.043727  \n",
       "v14a                         NaN            NaN        NaN       NaN  \n",
       "...                          ...            ...        ...       ...  \n",
       "SQBhogar_nin            0.182587       0.549630   0.204208  0.064105  \n",
       "SQBovercrowding         1.000000       0.029114  -0.197906 -0.139539  \n",
       "SQBdependency           0.029114       1.000000   0.024904 -0.034056  \n",
       "SQBmeaned              -0.197906       0.024904   1.000000  0.054411  \n",
       "agesq                  -0.139539      -0.034056   0.054411  1.000000  \n",
       "\n",
       "[140 rows x 140 columns]"
      ]
     },
     "execution_count": 383,
     "metadata": {},
     "output_type": "execute_result"
    }
   ],
   "source": [
    "X_train.corr()"
   ]
  },
  {
   "cell_type": "code",
   "execution_count": 384,
   "metadata": {},
   "outputs": [
    {
     "data": {
      "text/plain": [
       "RandomForestClassifier()"
      ]
     },
     "execution_count": 384,
     "metadata": {},
     "output_type": "execute_result"
    }
   ],
   "source": [
    "from sklearn.ensemble import RandomForestClassifier\n",
    "rfc = RandomForestClassifier()\n",
    "rfc.fit(X_train, y_train)\n"
   ]
  },
  {
   "cell_type": "code",
   "execution_count": 385,
   "metadata": {},
   "outputs": [],
   "source": [
    "rfc_pred_test = rfc.predict(X_test)\n",
    "rfc_pred_train = rfc.predict(X_train)\n"
   ]
  },
  {
   "cell_type": "code",
   "execution_count": 386,
   "metadata": {},
   "outputs": [],
   "source": [
    "from sklearn.metrics import accuracy_score"
   ]
  },
  {
   "cell_type": "code",
   "execution_count": 387,
   "metadata": {},
   "outputs": [
    {
     "name": "stdout",
     "output_type": "stream",
     "text": [
      "The accuracy of the test prediction is: 1.0\n",
      "The accuracy of the train prediction is: 1.0\n"
     ]
    }
   ],
   "source": [
    "print(\"The accuracy of the test prediction is:\", accuracy_score(y_test, rfc_pred_test))\n",
    "print(\"The accuracy of the train prediction is:\", accuracy_score(y_train, rfc_pred_train))"
   ]
  },
  {
   "cell_type": "code",
   "execution_count": 388,
   "metadata": {},
   "outputs": [],
   "source": [
    "## provided test data set\n"
   ]
  },
  {
   "cell_type": "code",
   "execution_count": 406,
   "metadata": {},
   "outputs": [
    {
     "name": "stdout",
     "output_type": "stream",
     "text": [
      "The shape of the test data set is: (448, 140)\n"
     ]
    }
   ],
   "source": [
    "print(\"The shape of the test data set is:\", test_data.shape)"
   ]
  },
  {
   "cell_type": "markdown",
   "metadata": {},
   "source": [
    "# making similar shape to train dataset"
   ]
  },
  {
   "cell_type": "code",
   "execution_count": 403,
   "metadata": {},
   "outputs": [],
   "source": [
    "test_data_filt = test_data.sample(n=32)"
   ]
  },
  {
   "cell_type": "code",
   "execution_count": 407,
   "metadata": {},
   "outputs": [
    {
     "name": "stdout",
     "output_type": "stream",
     "text": [
      "The shape of the filter test data set is: (32, 140)\n"
     ]
    }
   ],
   "source": [
    "print(\"The shape of the filter test data set is:\", test_data_filt.shape)"
   ]
  },
  {
   "cell_type": "markdown",
   "metadata": {},
   "source": [
    "## predicting trained model for separate test data provided"
   ]
  },
  {
   "cell_type": "code",
   "execution_count": 404,
   "metadata": {},
   "outputs": [],
   "source": [
    "rfc_pred_testdata = rfc.predict(test_data_filt)"
   ]
  },
  {
   "cell_type": "code",
   "execution_count": 405,
   "metadata": {},
   "outputs": [
    {
     "name": "stdout",
     "output_type": "stream",
     "text": [
      "The accuracy of the test prediction is: 0.9375\n"
     ]
    }
   ],
   "source": [
    "print(\"The accuracy of the test prediction is:\", accuracy_score(y_test, rfc_pred_testdata))"
   ]
  },
  {
   "cell_type": "code",
   "execution_count": 415,
   "metadata": {},
   "outputs": [
    {
     "name": "stdout",
     "output_type": "stream",
     "text": [
      "[[ 1  0  0]\n",
      " [ 0  1  0]\n",
      " [ 0  0 30]]\n",
      "              precision    recall  f1-score   support\n",
      "\n",
      "           1       0.00      0.00      0.00         1\n",
      "           2       0.00      0.00      0.00         1\n",
      "           4       0.94      1.00      0.97        30\n",
      "\n",
      "    accuracy                           0.94        32\n",
      "   macro avg       0.31      0.33      0.32        32\n",
      "weighted avg       0.88      0.94      0.91        32\n",
      "\n"
     ]
    }
   ],
   "source": [
    "from sklearn.metrics import confusion_matrix, f1_score, classification_report\n",
    "print(confusion_matrix(y_test, rfc_pred_test))\n",
    "print(classification_report(y_test, rfc_pred_testdata))"
   ]
  },
  {
   "cell_type": "markdown",
   "metadata": {},
   "source": [
    "# Check accuracy using cross validation with random forest"
   ]
  },
  {
   "cell_type": "code",
   "execution_count": 420,
   "metadata": {},
   "outputs": [],
   "source": [
    "from sklearn.model_selection import KFold, cross_val_score\n"
   ]
  },
  {
   "cell_type": "code",
   "execution_count": 434,
   "metadata": {},
   "outputs": [
    {
     "data": {
      "text/plain": [
       "array([0.875     , 0.8125    , 0.875     , 0.9375    , 0.875     ,\n",
       "       0.9375    , 0.93333333, 1.        , 1.        , 0.86666667])"
      ]
     },
     "execution_count": 434,
     "metadata": {},
     "output_type": "execute_result"
    }
   ],
   "source": [
    "rfc_model_cross_val = RandomForestClassifier()\n",
    "cross_val_score(rfc_model_cross_val,X, y, cv=10, scoring=\"accuracy\" )"
   ]
  },
  {
   "cell_type": "markdown",
   "metadata": {},
   "source": [
    "## The maximum accuracy is 1"
   ]
  },
  {
   "cell_type": "code",
   "execution_count": 435,
   "metadata": {},
   "outputs": [
    {
     "name": "stdout",
     "output_type": "stream",
     "text": [
      "The mean accuracy of the rfc model is: 0.9112500000000001\n"
     ]
    }
   ],
   "source": [
    "print(\"The mean accuracy of the rfc model is:\", cross_val_score(rfc_model_cross_val, X , y , cv = 10 , scoring =\"accuracy\").mean())"
   ]
  },
  {
   "cell_type": "markdown",
   "metadata": {},
   "source": [
    "## Fitting model to train data set and checking top features that influence the model"
   ]
  },
  {
   "cell_type": "code",
   "execution_count": 437,
   "metadata": {},
   "outputs": [],
   "source": [
    "rfc_model_cross_val.fit(X, y)\n",
    "test_data_1 = test_data.sample(n=156)\n",
    "y_predict_test_data = rfc_model_cross_val.predict(test_data_1)"
   ]
  },
  {
   "cell_type": "code",
   "execution_count": 438,
   "metadata": {},
   "outputs": [
    {
     "data": {
      "text/plain": [
       "array([4, 4, 4, 4, 4, 4, 4, 4, 4, 4, 4, 4, 4, 4, 4, 4, 4, 4, 4, 4, 4, 4,\n",
       "       4, 4, 4, 4, 4, 4, 4, 4, 4, 4, 4, 4, 4, 4, 4, 4, 4, 4, 4, 4, 4, 4,\n",
       "       4, 4, 4, 4, 4, 4, 4, 4, 4, 4, 4, 4, 4, 4, 4, 4, 4, 4, 4, 4, 4, 4,\n",
       "       4, 4, 4, 4, 4, 4, 4, 4, 4, 4, 4, 4, 4, 4, 4, 4, 4, 4, 4, 4, 4, 4,\n",
       "       4, 4, 4, 4, 4, 4, 4, 4, 4, 4, 4, 4, 4, 4, 4, 4, 4, 4, 4, 4, 4, 4,\n",
       "       4, 4, 4, 4, 4, 4, 4, 4, 4, 4, 4, 4, 4, 4, 4, 4, 4, 4, 4, 4, 4, 4,\n",
       "       4, 4, 4, 4, 4, 4, 4, 4, 4, 4, 4, 4, 4, 4, 4, 4, 4, 4, 4, 4, 4, 4,\n",
       "       4, 4], dtype=int64)"
      ]
     },
     "execution_count": 438,
     "metadata": {},
     "output_type": "execute_result"
    }
   ],
   "source": [
    "y_predict_test_data "
   ]
  },
  {
   "cell_type": "code",
   "execution_count": 442,
   "metadata": {},
   "outputs": [
    {
     "data": {
      "text/html": [
       "<div>\n",
       "<style scoped>\n",
       "    .dataframe tbody tr th:only-of-type {\n",
       "        vertical-align: middle;\n",
       "    }\n",
       "\n",
       "    .dataframe tbody tr th {\n",
       "        vertical-align: top;\n",
       "    }\n",
       "\n",
       "    .dataframe thead th {\n",
       "        text-align: right;\n",
       "    }\n",
       "</style>\n",
       "<table border=\"1\" class=\"dataframe\">\n",
       "  <thead>\n",
       "    <tr style=\"text-align: right;\">\n",
       "      <th></th>\n",
       "      <th>feature</th>\n",
       "      <th>importance</th>\n",
       "    </tr>\n",
       "  </thead>\n",
       "  <tbody>\n",
       "    <tr>\n",
       "      <th>0</th>\n",
       "      <td>v2a1</td>\n",
       "      <td>0.051731</td>\n",
       "    </tr>\n",
       "    <tr>\n",
       "      <th>2</th>\n",
       "      <td>rooms</td>\n",
       "      <td>0.015555</td>\n",
       "    </tr>\n",
       "    <tr>\n",
       "      <th>9</th>\n",
       "      <td>r4h2</td>\n",
       "      <td>0.016582</td>\n",
       "    </tr>\n",
       "    <tr>\n",
       "      <th>10</th>\n",
       "      <td>r4h3</td>\n",
       "      <td>0.016545</td>\n",
       "    </tr>\n",
       "    <tr>\n",
       "      <th>11</th>\n",
       "      <td>r4m1</td>\n",
       "      <td>0.031576</td>\n",
       "    </tr>\n",
       "    <tr>\n",
       "      <th>12</th>\n",
       "      <td>r4m2</td>\n",
       "      <td>0.020467</td>\n",
       "    </tr>\n",
       "    <tr>\n",
       "      <th>14</th>\n",
       "      <td>r4t1</td>\n",
       "      <td>0.023725</td>\n",
       "    </tr>\n",
       "    <tr>\n",
       "      <th>15</th>\n",
       "      <td>r4t2</td>\n",
       "      <td>0.018369</td>\n",
       "    </tr>\n",
       "    <tr>\n",
       "      <th>19</th>\n",
       "      <td>escolari</td>\n",
       "      <td>0.019711</td>\n",
       "    </tr>\n",
       "    <tr>\n",
       "      <th>22</th>\n",
       "      <td>paredblolad</td>\n",
       "      <td>0.020364</td>\n",
       "    </tr>\n",
       "  </tbody>\n",
       "</table>\n",
       "</div>"
      ],
      "text/plain": [
       "        feature  importance\n",
       "0          v2a1    0.051731\n",
       "2         rooms    0.015555\n",
       "9          r4h2    0.016582\n",
       "10         r4h3    0.016545\n",
       "11         r4m1    0.031576\n",
       "12         r4m2    0.020467\n",
       "14         r4t1    0.023725\n",
       "15         r4t2    0.018369\n",
       "19     escolari    0.019711\n",
       "22  paredblolad    0.020364"
      ]
     },
     "execution_count": 442,
     "metadata": {},
     "output_type": "execute_result"
    }
   ],
   "source": [
    "rfc_model_cross_val.fit(X,y)\n",
    "labels = list(X)\n",
    "feature_importances = pd.DataFrame({'feature': labels, 'importance': rfc_model_cross_val.feature_importances_})\n",
    "feature_importances=feature_importances[feature_importances.importance>0.015]\n",
    "feature_importances.head(10)"
   ]
  },
  {
   "cell_type": "code",
   "execution_count": 443,
   "metadata": {},
   "outputs": [
    {
     "data": {
      "text/plain": [
       "Text(0.5, 0, 'Importance')"
      ]
     },
     "execution_count": 443,
     "metadata": {},
     "output_type": "execute_result"
    },
    {
     "data": {
      "image/png": "[encoded data removed]",
      "text/plain": [
       "<Figure size 792x432 with 1 Axes>"
      ]
     },
     "metadata": {
      "needs_background": "light"
     },
     "output_type": "display_data"
    }
   ],
   "source": [
    "feature_importances.sort_values(by=['importance'], ascending=True, inplace=True)\n",
    "feature_importances['positive'] = feature_importances['importance'] > 0\n",
    "feature_importances.set_index('feature',inplace=True)\n",
    "feature_importances.head()\n",
    "\n",
    "feature_importances.importance.plot(kind='barh', figsize=(11, 6),color = feature_importances.positive.map({True: 'blue', False: 'red'}))\n",
    "plt.xlabel('Importance')"
   ]
  },
  {
   "cell_type": "markdown",
   "metadata": {},
   "source": [
    "# From the graph above v2a1, SQBmeaned, meaneduc, r4m1 has the greatest influence on the rfc model."
   ]
  },
  {
   "cell_type": "code",
   "execution_count": null,
   "metadata": {},
   "outputs": [],
   "source": []
  }
 ],
 "metadata": {
  "kernelspec": {
   "display_name": "Python 3",
   "language": "python",
   "name": "python3"
  },
  "language_info": {
   "codemirror_mode": {
    "name": "ipython",
    "version": 3
   },
   "file_extension": ".py",
   "mimetype": "text/x-python",
   "name": "python",
   "nbconvert_exporter": "python",
   "pygments_lexer": "ipython3",
   "version": "3.8.8"
  }
 },
 "nbformat": 4,
 "nbformat_minor": 4
}
